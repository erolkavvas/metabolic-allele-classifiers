{
 "cells": [
  {
   "cell_type": "code",
   "execution_count": 1,
   "metadata": {},
   "outputs": [],
   "source": [
    "from cobrascape.species import save_json_obj, load_json_obj\n",
    "from cobra.io import load_json_model\n",
    "from cobra import Reaction\n",
    "from cobra import flux_analysis\n",
    "import numpy as np\n",
    "from cobra.io import save_json_model\n",
    "from cobrascape.species import create_action_set\n",
    "import matplotlib.pyplot as plt\n",
    "import cobrascape.species as cs"
   ]
  },
  {
   "cell_type": "code",
   "execution_count": 2,
   "metadata": {},
   "outputs": [],
   "source": [
    "import pandas as pd\n",
    "import seaborn as sns"
   ]
  },
  {
   "cell_type": "code",
   "execution_count": 3,
   "metadata": {},
   "outputs": [],
   "source": [
    "def add_exchange_reaction(mod_, metab_list, prefix_id=\"EX\"):\n",
    "    \"\"\"Take in a model and add metabolite drain reactions for a list of metabolites\n",
    "    in the model. These metabolite drain reactions will have the identification\n",
    "    of (MDS)__(metabolite id). (i.e., MDS__atp_c for the atp_c metabolite)\n",
    "    \"\"\"\n",
    "    mod = mod_.copy()\n",
    "    metab_obj_names=[]\n",
    "    for metab in metab_list:\n",
    "        obj_name = prefix_id+\"_\"+metab.strip(\"_e\").strip(\"_c\")\n",
    "        metab_drain = Reaction(obj_name)\n",
    "        metab_drain.lower_bound = 0\n",
    "        metab_drain.upper_bound = 1000.\n",
    "        metab_drain.add_metabolites({mod.metabolites.get_by_id(metab): 1.0})\n",
    "        mod.add_reaction(metab_drain)\n",
    "        metab_obj_names.append(obj_name)\n",
    "    return mod, metab_obj_names\n",
    "\n",
    "# COBRA_MODEL, metab_names = add_exchange_reaction(COBRA_MODEL, [\"k_e\"], prefix_id=\"EX\")\n",
    "\n",
    "def plot_setup(row_num=1, col_num=1, s_size=100, labelsizes=20, f_scale=1.0, figSIZE=(7,5)):\n",
    "    \n",
    "    rc_par = {\"axes.labelsize\": labelsizes, \"xtick.labelsize\":labelsizes, \n",
    "              \"ytick.labelsize\":labelsizes,\"axes.titlesize\":labelsizes}\n",
    "    # savefig=True\n",
    "    with sns.plotting_context(\"notebook\", font_scale=f_scale, rc=rc_par):\n",
    "        f, ax = plt.subplots(row_num, col_num, figsize=figSIZE)\n",
    "        return f, ax\n",
    "    \n",
    "def flux_constraint_hist(samps, action_list, rxn_list=[\"CAT\"]):\n",
    "    \n",
    "    rxns_constraint_dict = {}\n",
    "    \n",
    "    for react in rxn_list:#player_reacts: # \"FAS161\", \"DCPT\", \"AFE\"\n",
    "        rxns_constraint_dict[react] = {}\n",
    "        max_flux, min_flux = max(samps[react]), min(samps[react])\n",
    "        mean_flux = np.mean(samps[react])\n",
    "    \n",
    "        action_to_constraints_dict = {}\n",
    "        # for reactions that can't have any change, keep their bounds at a single value.\n",
    "        if max_flux == min_flux: \n",
    "            for a in action_list:\n",
    "                action_to_constraints_dict.update({a: max_flux})\n",
    "        else:\n",
    "            left_bound_distance = mean_flux - min_flux\n",
    "\n",
    "            gradient_steps = int(len(action_list)/2)\n",
    "            # min_to_mean_grad = np.arange(min_flux, mean_flux, (mean_flux-min_flux)/gradient_steps)\n",
    "            # max_to_mean_grad = np.arange(mean_flux, max_flux, (max_flux-mean_flux)/gradient_steps)\n",
    "            min_to_mean_grad = np.arange(min_flux, mean_flux, (mean_flux-min_flux)/(gradient_steps+1))[-gradient_steps:]\n",
    "            max_to_mean_grad = np.arange(mean_flux, max_flux, (max_flux-mean_flux)/(gradient_steps+1))[-gradient_steps:]\n",
    "\n",
    "            for a in action_list:\n",
    "                if a == \"no_change\":\n",
    "                    action_to_constraints_dict.update({a: 0})\n",
    "                else:\n",
    "                    dec_or_inc = a.split(\"_\")[0]\n",
    "                    grad_dist = int(a.split(\"_\")[1])\n",
    "\n",
    "                    # It doesn't matter if mean_flux is less than or greater than 0.\n",
    "                    if dec_or_inc == \"lb\": # Change upper_bound\n",
    "                        action_to_constraints_dict.update({a: min_to_mean_grad[grad_dist]})\n",
    "                    elif dec_or_inc == \"ub\": # Change lower_bound\n",
    "                        action_to_constraints_dict.update({a: max_to_mean_grad[grad_dist]})\n",
    "\n",
    "        rxns_constraint_dict[react].update(action_to_constraints_dict)\n",
    "        \n",
    "        \n",
    "    ### Plot\n",
    "    rxn_id = react# \"FAD_20\"# \"ASNt2r\"#\"ICL\"# \"EMB\"# \"DCPT\"# \"CAT\"\n",
    "    f, ax = plot_setup(row_num=1, col_num=1, s_size=100, labelsizes=20, f_scale=1.0, figSIZE=(7,5))\n",
    "    samps[rxn_id].hist(bins=100, alpha=0.5, ax=ax)\n",
    "    ax.set_title(rxn_id)\n",
    "    mean_flux=samps[rxn_id].mean()\n",
    "    std_flux=samps[rxn_id].std()\n",
    "    max_flux=samps[rxn_id].max()\n",
    "    min_flux=samps[rxn_id].min()\n",
    "    print(mean_flux,std_flux,max_flux,min_flux)\n",
    "    print(\"ubs...\", str(mean_flux+1*std_flux), mean_flux+3*std_flux)\n",
    "\n",
    "    ax.axvline(x=mean_flux, color='k', linestyle='-')\n",
    "    for bnd_id, bnd_val in rxns_constraint_dict[rxn_id].items():\n",
    "        if \"lb\" in bnd_id:\n",
    "            ax.axvline(x=bnd_val, color='purple', linestyle='-')\n",
    "        elif \"ub\" in bnd_id:\n",
    "            ax.axvline(x=bnd_val, color='r', linestyle='-')\n",
    "        else:\n",
    "            ax.axvline(x=bnd_val, color='k', linestyle='-')\n",
    "            \n",
    "    return rxns_constraint_dict, ax\n",
    "    \n",
    "# samps = rxn_flux_samples_ARCH.copy()"
   ]
  },
  {
   "cell_type": "code",
   "execution_count": 4,
   "metadata": {},
   "outputs": [
    {
     "name": "stdout",
     "output_type": "stream",
     "text": [
      "min to mean: [0.25 0.5  0.75]\n",
      "mean to max: [1.25 1.5  1.75]\n"
     ]
    }
   ],
   "source": [
    "min_flux, max_flux, mean_flux, gradient_steps = 0, 2, 1, 3\n",
    "print(\"min to mean:\",np.arange(min_flux, mean_flux, (mean_flux-min_flux)/(gradient_steps+1))[-gradient_steps:])\n",
    "print(\"mean to max:\",np.arange(mean_flux, max_flux, (max_flux-mean_flux)/(gradient_steps+1))[-gradient_steps:])"
   ]
  },
  {
   "cell_type": "code",
   "execution_count": 5,
   "metadata": {},
   "outputs": [
    {
     "data": {
      "text/plain": [
       "array([0.        , 0.33333333, 0.66666667])"
      ]
     },
     "execution_count": 5,
     "metadata": {},
     "output_type": "execute_result"
    }
   ],
   "source": [
    "np.linspace(min_flux, mean_flux, num=gradient_steps, endpoint=False)"
   ]
  },
  {
   "cell_type": "markdown",
   "metadata": {},
   "source": [
    "Middlebrook m7H10 media"
   ]
  },
  {
   "cell_type": "code",
   "execution_count": 5,
   "metadata": {},
   "outputs": [],
   "source": [
    "medium_condition = {\n",
    "    'EX_glu_L': 1.0,\n",
    "    'EX_nh4': 1.0,\n",
    "    \n",
    "    'EX_o2': 1.0,\n",
    "    'EX_h': 1.0,\n",
    "    \n",
    "    'EX_glyc': 1.0,\n",
    "    'EX_cit': 1.0, \n",
    "    'EX_glc': 1.0, # OADC Enrichment (could use dextrose instead)\n",
    "    \n",
    "    'EX_mg2': 1.0,\n",
    "    'EX_so4': 1.0,\n",
    "    \"EX_cu2\": 1.0,\n",
    "    \"EX_k\": 1.0,\n",
    "    'EX_pi': 1.0,\n",
    "    'EX_so4': 1.0,\n",
    "    'EX_etoh': 1.0,\n",
    "    'EX_mobd': 1.0,\n",
    "    'EX_na1': 1.0,\n",
    "    'EX_fe3': 1.0,\n",
    "    'EX_cl': 1.0, # OADC Enrichment\n",
    "    'EX_btn': 1.0,\n",
    "    \n",
    "    \"EX_ocdcea\": 1.0, # oleic acid ((9Z)-Octadecenoic acid ) - OADC Enrichment \n",
    "}"
   ]
  },
  {
   "cell_type": "markdown",
   "metadata": {},
   "source": [
    "Load iEK1011 and iNJ661"
   ]
  },
  {
   "cell_type": "code",
   "execution_count": 6,
   "metadata": {
    "scrolled": true
   },
   "outputs": [
    {
     "name": "stdout",
     "output_type": "stream",
     "text": [
      "{'EX_cit': 1.0, 'EX_cl': 1.0, 'EX_cu2': 1.0, 'EX_fe3': 1.0, 'EX_glc': 1.0, 'EX_glu_L': 1.0, 'EX_glyc': 1.0, 'EX_h': 1.0, 'EX_k': 1.0, 'EX_mg2': 1.0, 'EX_na1': 1.0, 'EX_nh4': 1.0, 'EX_o2': 1.0, 'EX_pi': 1.0, 'EX_so4': 1.0, 'EX_ocdcea': 1.0, 'EX_etoh': 1.0, 'EX_mobd': 1.0, 'EX_btn': 1.0}\n",
      "0\n"
     ]
    }
   ],
   "source": [
    "DATA_DIR = \"cobra_model/\"\n",
    "MODEL_FILE = \"iEK1011_M7H10_media.json\"\n",
    "frac_biomass = 0\n",
    "\n",
    "# save_json_model(COBRA_MODEL,DATA_DIR+MODEL_FILE)\n",
    "COBRA_MODEL = load_json_model(DATA_DIR+MODEL_FILE)\n",
    "print(COBRA_MODEL.medium)\n",
    "COBRA_MODEL.reactions.get_by_id(\"biomass\").lower_bound = frac_biomass\n",
    "print(COBRA_MODEL.reactions.get_by_id(\"biomass\").lower_bound)"
   ]
  },
  {
   "cell_type": "code",
   "execution_count": 21,
   "metadata": {},
   "outputs": [],
   "source": [
    "flux_samples_iEK_lb0 = flux_analysis.sample(COBRA_MODEL, 10000,method='achr', \n",
    "                                        thinning=100, processes=6, seed=None)"
   ]
  },
  {
   "cell_type": "code",
   "execution_count": 6,
   "metadata": {},
   "outputs": [],
   "source": [
    "MODEL_SAMPLES_FILE = \"ens_strains375_alleles237_actions4/base_flux_samples.csv\"\n",
    "flux_samples_iEK_lb0 = pd.read_csv(MODEL_SAMPLES_FILE,index_col=0)"
   ]
  },
  {
   "cell_type": "code",
   "execution_count": 7,
   "metadata": {},
   "outputs": [],
   "source": [
    "frac_biomass = 0.01\n",
    "MODEL_FILE = \"iEK1011_drugTesting_media.json\""
   ]
  },
  {
   "cell_type": "code",
   "execution_count": 8,
   "metadata": {
    "scrolled": true
   },
   "outputs": [
    {
     "name": "stdout",
     "output_type": "stream",
     "text": [
      "9.701510933494392e-05 3.737659576266971e-05 0.00033169076515634496 2.0391545040234605e-07\n",
      "ubs... 0.00013439170509761363 0.00020914489662295305\n",
      "0.0018516230986626563 0.0034737608499628716 0.08725730310070949 1.563792894085393e-08\n",
      "ubs... 0.005325383948625528 0.01227290564855127\n"
     ]
    },
    {
     "data": {
      "image/png": "[encoded data removed]",
      "text/plain": [
       "<Figure size 504x360 with 1 Axes>"
      ]
     },
     "metadata": {
      "needs_background": "light"
     },
     "output_type": "display_data"
    },
    {
     "data": {
      "image/png": "[encoded data removed]",
      "text/plain": [
       "<Figure size 504x360 with 1 Axes>"
      ]
     },
     "metadata": {
      "needs_background": "light"
     },
     "output_type": "display_data"
    }
   ],
   "source": [
    "action_list = create_action_set(number_of_actions=4, add_no_change=False)\n",
    "save_fig=True\n",
    "for rxn_id in [\"TMDS\", \"CYST_II\"]:\n",
    "    rc_dict, ax_rc = flux_constraint_hist(flux_samples_iEK_lb0, action_list, rxn_list=[rxn_id])\n",
    "    ax_rc.set_ylabel(\"frequency\")\n",
    "    ax_rc.set_xlabel(\"flux\")\n",
    "    if save_fig==True:\n",
    "        ax_rc.figure.savefig(\"cobra_model/figures_testing/\"+rxn_id+\"__model-\"+MODEL_FILE.strip(\".json\")+\"__actions-\"+str(len(action_list))+\"__fracbiomass-\"+str(frac_biomass)+\".png\")\n",
    "        ax_rc.figure.savefig(\"cobra_model/figures_testing/\"+rxn_id+\"__model-\"+MODEL_FILE.strip(\".json\")+\"__actions-\"+str(len(action_list))+\"__fracbiomass-\"+str(frac_biomass)+\".svg\")"
   ]
  },
  {
   "cell_type": "code",
   "execution_count": 68,
   "metadata": {},
   "outputs": [
    {
     "data": {
      "text/plain": [
       "'iEK1011_M7H10_media'"
      ]
     },
     "execution_count": 68,
     "metadata": {},
     "output_type": "execute_result"
    }
   ],
   "source": [
    "MODEL_FILE.strip(\".json\")"
   ]
  },
  {
   "cell_type": "code",
   "execution_count": 62,
   "metadata": {},
   "outputs": [
    {
     "name": "stdout",
     "output_type": "stream",
     "text": [
      "\t... before cleaning (objective_value: 0.058362, DCPT flux: 0.003029)\n",
      "\t... before GEM= (genes: 1011, reactions: 1229, metabolites: 998)\n",
      "\t... after cleaning (objective_value: 0.058362, DCPT flux: 0.003029)\n",
      "\t... after fva constraints (objective_value: 0.058362, AFE flux: 0.003029)\n",
      "\t... filtered GEM= (genes: 798, reactions: 911, metabolites: 728)\n"
     ]
    }
   ],
   "source": [
    "FVA_CONSTRAINTS=True\n",
    "FVA_frac_opt=0.0\n",
    "FVA_pfba_fract = None\n",
    "sol = COBRA_MODEL.optimize()\n",
    "print(\"\\t... before cleaning (objective_value: %f, DCPT flux: %f)\" % (sol.objective_value, sol.fluxes[\"DCPT\"]))\n",
    "print(\"\\t... before GEM= (genes: %d, reactions: %d, metabolites: %d)\" % (len(COBRA_MODEL.genes), \n",
    "        len(COBRA_MODEL.reactions), len(COBRA_MODEL.metabolites)))\n",
    "### Clean base model and apply FVA constriants\n",
    "COBRA_MODEL = cs.clean_base_model(COBRA_MODEL, open_exchange=False, verbose=False)\n",
    "sol = COBRA_MODEL.optimize()\n",
    "print(\"\\t... after cleaning (objective_value: %f, DCPT flux: %f)\" % (sol.objective_value, sol.fluxes[\"DCPT\"]))\n",
    "if FVA_CONSTRAINTS==True:\n",
    "    COBRA_MODEL, fva_df = cs.init_fva_constraints(COBRA_MODEL,opt_frac=FVA_frac_opt, pfba_fact=FVA_pfba_fract, verbose=False)\n",
    "    sol = COBRA_MODEL.optimize()\n",
    "    print(\"\\t... after fva constraints (objective_value: %f, AFE flux: %f)\" % (sol.objective_value, sol.fluxes[\"DCPT\"]))\n",
    "    print(\"\\t... filtered GEM= (genes: %d, reactions: %d, metabolites: %d)\" % (len(COBRA_MODEL.genes), \n",
    "        len(COBRA_MODEL.reactions), len(COBRA_MODEL.metabolites)))\n"
   ]
  },
  {
   "cell_type": "code",
   "execution_count": 63,
   "metadata": {},
   "outputs": [],
   "source": [
    "flux_samples_iEK_lb0_fvaNone = flux_analysis.sample(COBRA_MODEL, 10000,method='achr', \n",
    "                                        thinning=100, processes=6, seed=None)"
   ]
  },
  {
   "cell_type": "code",
   "execution_count": 64,
   "metadata": {
    "scrolled": true
   },
   "outputs": [
    {
     "name": "stdout",
     "output_type": "stream",
     "text": [
      "0.017912975102769065 0.01606522896065294 0.12173991975840107 7.671100473314812e-07\n",
      "ubs... 0.033978204063422 0.06610866198472788\n",
      "2.762695301561109e-06 8.483536535049212e-07 6.9432114757712685e-06 1.5496903698808525e-10\n",
      "ubs... 3.61104895506603e-06 5.307756262075873e-06\n",
      "0.00019615136641083615 6.023310939884794e-05 0.0004929680147797579 1.100280162614334e-08\n",
      "ubs... 0.0002563844758096841 0.00037685069460737994\n",
      "0.08185420253383396 0.06726841467709949 0.570526759708857 1.1563748172876921e-05\n",
      "ubs... 0.14912261721093345 0.2836594465651324\n",
      "3.0234695476918566e-06 9.284308103739474e-07 7.59858984746682e-06 1.6959686662161385e-10\n",
      "ubs... 3.951900358065804e-06 5.808761978813699e-06\n",
      "1.531061733670724e-05 1.2667794025090767e-05 7.546192884377085e-05 9.821126279063295e-10\n",
      "ubs... 2.7978411361798007e-05 5.331399941197954e-05\n",
      "-0.01636523320730422 0.011468640595979629 -2.2102406827982494e-06 -0.0827044920703297\n",
      "ubs... -0.00489659261132459 0.018040688580634668\n"
     ]
    },
    {
     "data": {
      "image/png": "[encoded data removed]",
      "text/plain": [
       "<Figure size 432x288 with 1 Axes>"
      ]
     },
     "metadata": {
      "needs_background": "light"
     },
     "output_type": "display_data"
    },
    {
     "data": {
      "image/png": "[encoded data removed]",
      "text/plain": [
       "<Figure size 432x288 with 1 Axes>"
      ]
     },
     "metadata": {
      "needs_background": "light"
     },
     "output_type": "display_data"
    },
    {
     "data": {
      "image/png": "[encoded data removed]",
      "text/plain": [
       "<Figure size 432x288 with 1 Axes>"
      ]
     },
     "metadata": {
      "needs_background": "light"
     },
     "output_type": "display_data"
    },
    {
     "data": {
      "image/png": "[encoded data removed]",
      "text/plain": [
       "<Figure size 432x288 with 1 Axes>"
      ]
     },
     "metadata": {
      "needs_background": "light"
     },
     "output_type": "display_data"
    },
    {
     "data": {
      "image/png": "[encoded data removed]",
      "text/plain": [
       "<Figure size 432x288 with 1 Axes>"
      ]
     },
     "metadata": {
      "needs_background": "light"
     },
     "output_type": "display_data"
    },
    {
     "data": {
      "image/png": "[encoded data removed]",
      "text/plain": [
       "<Figure size 432x288 with 1 Axes>"
      ]
     },
     "metadata": {
      "needs_background": "light"
     },
     "output_type": "display_data"
    },
    {
     "data": {
      "image/png": "[encoded data removed]",
      "text/plain": [
       "<Figure size 432x288 with 1 Axes>"
      ]
     },
     "metadata": {
      "needs_background": "light"
     },
     "output_type": "display_data"
    }
   ],
   "source": [
    "action_list = create_action_set(number_of_actions=4, add_no_change=False)\n",
    "\n",
    "for rxn_id in [\"CAT\", \"EMB\", \"DCPT\", \"ALAD_L\", \"DHFS\", \"TMDS\", \"NNAM\"]:\n",
    "    rc_dict, ax_rc = flux_constraint_hist(flux_samples_iEK_lb0_fvaNone, action_list, rxn_list=[rxn_id])"
   ]
  },
  {
   "cell_type": "code",
   "execution_count": null,
   "metadata": {},
   "outputs": [],
   "source": [
    "popdf_median_sprice_anova_df.to_csv(ENSEMBLE_DIR+\"/tables/strain_sprice_med_ANOVA_df_\"+pheno_id+\".csv\")"
   ]
  },
  {
   "cell_type": "markdown",
   "metadata": {},
   "source": [
    "Set lower bound on biomass and then sample and look at constraints"
   ]
  },
  {
   "cell_type": "code",
   "execution_count": null,
   "metadata": {},
   "outputs": [],
   "source": [
    "flux_samples_iEK_lb0 = flux_analysis.sample(COBRA_MODEL, 10000,method='achr', \n",
    "                                        thinning=100, processes=6, seed=None)"
   ]
  },
  {
   "cell_type": "code",
   "execution_count": null,
   "metadata": {},
   "outputs": [],
   "source": [
    "rc_dict, ax_rc = flux_constraint_hist(flux_samples_iEK_lb0, action_list, rxn_list=[\"CAT\"])"
   ]
  },
  {
   "cell_type": "markdown",
   "metadata": {},
   "source": [
    "Check out what iNJ661 all about yo"
   ]
  },
  {
   "cell_type": "code",
   "execution_count": 73,
   "metadata": {
    "scrolled": true
   },
   "outputs": [
    {
     "name": "stdout",
     "output_type": "stream",
     "text": [
      "0.049165124845941564\n",
      "-1.0\n",
      "-0.10672091739346497\n",
      "-0.21465159184888974\n",
      "0.8185505038598582\n",
      "-0.8185505038598582\n"
     ]
    },
    {
     "data": {
      "text/plain": [
       "PGK           -2.827562\n",
       "PGM           -2.780629\n",
       "L_LACt2r      -1.709482\n",
       "LDH_L         -1.709482\n",
       "H2CO3TP       -1.109751\n",
       "EX_o2_e       -1.000000\n",
       "GLYCt         -1.000000\n",
       "EX_glyc_e     -1.000000\n",
       "EX_glc__D_e   -1.000000\n",
       "G3PD1ir       -0.994073\n",
       "G6PP          -0.991979\n",
       "H2Ot          -0.818551\n",
       "SUCCt2r       -0.459423\n",
       "PPCK          -0.289142\n",
       "FORMCOAL      -0.279317\n",
       "CITL_copy1    -0.279317\n",
       "FRDO3r        -0.270338\n",
       "ACKr          -0.259900\n",
       "EX_glu__L_e   -0.214652\n",
       "EX_nh4_e      -0.106721\n",
       "ASPTA         -0.105083\n",
       "PEPCK_re      -0.095258\n",
       "PIt           -0.054489\n",
       "EX_pi_e       -0.054489\n",
       "RPE           -0.032974\n",
       "RPI           -0.031824\n",
       "IMPC          -0.021310\n",
       "KARA1         -0.020184\n",
       "ORPT          -0.019453\n",
       "DHORTS        -0.019453\n",
       "                 ...   \n",
       "ACONT          0.279317\n",
       "ICL            0.279317\n",
       "OXACOAL        0.279317\n",
       "GLXO1          0.279317\n",
       "OXCDC          0.279317\n",
       "ACCOAC         0.318506\n",
       "HCO3E          0.343879\n",
       "EX_succ_e      0.459423\n",
       "PFL            0.633549\n",
       "EX_h2o_e       0.818551\n",
       "ATPS4r         0.852239\n",
       "H2td           0.902056\n",
       "FHL            0.902056\n",
       "EX_h2_e        0.902056\n",
       "PFK            0.927128\n",
       "FBA            0.927128\n",
       "PGI            0.983513\n",
       "GLYK           0.999041\n",
       "O2t            1.000000\n",
       "GLCabc         1.000000\n",
       "EX_h2co3_e     1.109751\n",
       "H2CO3D         1.109751\n",
       "EX_lac__L_e    1.709482\n",
       "TPI            1.921202\n",
       "NADH10         1.977478\n",
       "CYTBD2         1.996931\n",
       "PYK            2.383149\n",
       "EX_h_e         2.539158\n",
       "ENO            2.780629\n",
       "GAPD           2.827562\n",
       "Name: fluxes, Length: 1025, dtype: float64"
      ]
     },
     "execution_count": 73,
     "metadata": {},
     "output_type": "execute_result"
    }
   ],
   "source": [
    "DATA_DIR = \"cobra_model/\"\n",
    "MODEL_FILE = \"iNJ661.json\"#\"iEK1011_drugTesting_media.json\"\n",
    "INJ_MODEL = load_json_model(DATA_DIR+MODEL_FILE)\n",
    "# INJ_MODEL.reactions.get_by_id(\"ARGDr\").lower_bound=0\n",
    "# INJ_MODEL.reactions.get_by_id(\"ALATA_L\").lower_bound=0\n",
    "# INJ_MODEL.reactions.get_by_id(\"GLUDxi\").lower_bound=0\n",
    "# inj_sol =INJ_MODEL.optimize()\n",
    "print(inj_sol.objective_value)\n",
    "print(inj_sol.fluxes[\"EX_o2_e\"])\n",
    "print(inj_sol.fluxes[\"EX_nh4_e\"])\n",
    "print(inj_sol.fluxes[\"EX_glu__L_e\"])\n",
    "print(inj_sol.fluxes['EX_h2o_e'])\n",
    "print(inj_sol.fluxes[\"H2Ot\"])\n",
    "# COBRA_MODEL.reactions.get_by_id(\"BIOMASS_Mtb_9_60atp\").lower_bound = sol.objective_value*0.1\n",
    "inj_sol.fluxes.sort_values()"
   ]
  },
  {
   "cell_type": "code",
   "execution_count": 75,
   "metadata": {},
   "outputs": [
    {
     "name": "stdout",
     "output_type": "stream",
     "text": [
      "atp_c + rib__D_c --> adp_c + h_c + r5p_c\n",
      "atp_c + h_c + nicrnt_c --> dnad_c + ppi_c\n",
      "atp_c + cbl1_c + h_c <=> adocbl_c + pppi_c\n",
      "arab__D_e + atp_c + h2o_c --> adp_c + arab__D_c + h_c + pi_c\n",
      "atp_c + gtp_c + h2o_c + so4_c --> aps_c + gdp_c + pi_c + ppi_c\n",
      "5aizc_c + asp__L_c + atp_c <=> 25aics_c + adp_c + h_c + pi_c\n",
      "ac_c + atp_c <=> actp_c + adp_c\n",
      "atp_c + glu__L_c + thf_c <=> adp_c + h_c + pi_c + thfglu_c\n",
      "atp_c + h2o_c + malthp_e --> adp_c + h_c + malthp_c + pi_c\n",
      "atp_c + coa_c + hdcea_c <=> amp_c + hdcoa_c + ppi_c\n",
      "atp_c + ump_c --> adp_c + udp_c\n",
      "atp_c + cbi_c + h_c <=> adocbi_c + pppi_c\n",
      "atp_c + gsn_c --> adp_c + gmp_c + h_c\n",
      "atp_c + dgmp_c <=> adp_c + dgdp_c\n",
      "atp_c + btn_c + h_c --> btamp_c + ppi_c\n",
      "atp_c + h2o_c + malt_e --> adp_c + h_c + malt_c + pi_c\n",
      "6hmhpt_c + atp_c --> 6hmhptpp_c + amp_c + h_c\n",
      "atp_c + coa_c + hdca_c <=> amp_c + pmtcoa_c + ppi_c\n",
      "atp_c + glc__D_c --> adp_c + g6p_c + h_c\n",
      "atp_c + fmn_c + h_c --> fad_c + ppi_c\n",
      "amp_c + atp_c <=> 2.0 adp_c\n",
      "adp_c + 4.0 h_e + pi_c <=> atp_c + h2o_c + 3.0 h_c\n",
      "atp_c + hco3_c + pyr_c --> adp_c + h_c + oaa_c + pi_c\n",
      "2ahhmp_c + atp_c --> 2ahhmd_c + amp_c + h_c\n",
      "arab__L_e + atp_c + h2o_c --> adp_c + arab__L_c + h_c + pi_c\n",
      "atp_c + coa_c + ttdca_c <=> amp_c + ppi_c + tdcoa_c\n",
      "adcobdam_c + 4.0 atp_c + 4.0 gln__L_c + 4.0 h2o_c --> adcobhex_c + 4.0 adp_c + 4.0 glu__L_c + 4.0 h_c + 4.0 pi_c\n",
      "atp_c + idp_c <=> adp_c + itp_c\n",
      "acglu_c + atp_c --> acg5p_c + adp_c\n",
      "atp_c + 2.0 ca2_c + h2o_c --> adp_c + 2.0 ca2_e + h_e + pi_c\n",
      "atp_c + fgam_c + gln__L_c + h2o_c --> adp_c + fpram_c + glu__L_c + h_c + pi_c\n",
      "atp_c + h_c + so4_c --> aps_c + ppi_c\n",
      "atp_c + cys__L_c + dxyl5p_c + tyr__L_c --> 4hba_c + 4mpetz_c + ala__L_c + amp_c + co2_c + h2o_c + h_c + ppi_c\n",
      "atp_c + dadp_c <=> adp_c + datp_c\n",
      "atp_c + h2o_c + xyl__D_e --> adp_c + h_c + pi_c + xyl__D_c\n",
      "ACP_c + atp_c + hdca_c --> amp_c + palmACP_c + ppi_c\n",
      "atp_c + f6p_c --> adp_c + fdp_c + h_c\n",
      "atp_c + co1dam_c + h_c --> adcobdam_c + pppi_c\n",
      "atp_c + h2o_c + h_c --> adp_c + 2.0 h_e + pi_c\n",
      "atp_c + dcdp_c <=> adp_c + dctp_c\n",
      "atp_c + ppi_c --> adp_c + pppi_c\n",
      "12dgr160_c + atp_c --> adp_c + h_c + pa160_c\n",
      "aps_c + atp_c --> adp_c + h_c + paps_c\n",
      "atp_c + coa_c + sucbz_c --> amp_c + ppi_c + sbzcoa_c\n",
      "3pg_c + atp_c <=> 13dpg_c + adp_c\n",
      "4hbz_c + ACP_c + atp_c --> 4hbzACP_c + amp_c + ppi_c\n",
      "atp_c + xylu__D_c --> adp_c + h_c + xu5p__D_c\n",
      "atp_c + dhpt_c + glu__L_c --> adp_c + dhf_c + h_c + pi_c\n",
      "atp_c + dudp_c <=> adp_c + dutp_c\n",
      "atp_c + prpp_c --> ppi_c + prbatp_c\n",
      "atp_c + lys__L_c + uamag_c --> adp_c + h_c + pi_c + uGgl_c\n",
      "atp_c + fpram_c --> adp_c + air_c + 2.0 h_c + pi_c\n",
      "atp_c + fe3_e + h2o_c --> adp_c + fe3_c + h_c + pi_c\n",
      "atp_c + damp_c <=> adp_c + dadp_c\n",
      "adcobhex_c + applp_c + atp_c --> adocbip_c + adp_c + h_c + pi_c\n",
      "atp_c + ribflv_c --> adp_c + fmn_c + h_c\n",
      "atp_c + dnad_c + gln__L_c + h2o_c --> amp_c + glu__L_c + h_c + nad_c + ppi_c\n",
      "atp_c + co2_c + dann_c <=> adp_c + dtbt_c + 3.0 h_c + pi_c\n",
      "ACP_c + atp_c + mocdca_c --> amp_c + mstrACP_c + ppi_c\n",
      "atp_c + dgdp_c <=> adp_c + dgtp_c\n",
      "atp_c --> camp_c + ppi_c\n",
      "accoa_c + atp_c + hco3_c <=> adp_c + h_c + malcoa_c + pi_c\n",
      "atp_c + h2o_c + met__L_e --> adp_c + h_c + met__L_c + pi_c\n",
      "atp_c + thmmp_c <=> adp_c + thmpp_c\n",
      "atp_c + thymd_c --> adp_c + dtmp_c + h_c\n",
      "atp_c + cobalt2_c + h2o_c + hgbam_c --> adp_c + co2dam_c + 2.0 h_c + pi_c\n",
      "atp_c + lys__L_c + uamag_c --> adp_c + h_c + pi_c + uAgl_c\n",
      "4ahmmp_c + atp_c --> 4ampm_c + adp_c + h_c\n",
      "atp_c + dtdp_c <=> adp_c + dttp_c\n",
      "adcobhex_c + appl_c + atp_c --> adocbi_c + adp_c + h_c + pi_c\n",
      "atp_c + ins_c --> adp_c + h_c + imp_c\n",
      "atp_c + gln__L_c + h2o_c + xmp_c --> amp_c + glu__L_c + gmp_c + 2.0 h_c + ppi_c\n",
      "atp_c + coa_c + oxa_c <=> amp_c + oxalcoa_c + ppi_c\n",
      "atp_c + ump_c <=> adp_c + udp_c\n",
      "atp_c + nad_c --> adp_c + h_c + nadp_c\n",
      "atp_c + cu2_c + h2o_c --> adp_c + cu2_e + h_c + pi_c\n",
      "adocbi_c + atp_c --> adocbip_c + adp_c + h_c\n",
      "atp_c + cdp_c <=> adp_c + ctp_c\n",
      "26dap__M_c + atp_c + uamag_c --> adp_c + h_c + pi_c + ugmd_c\n",
      "atp_c + fe2_e + h2o_c --> adp_c + fe2_c + h_c + pi_c\n",
      "ala__L_c + atp_c + trnaala_c --> alatrna_c + amp_c + ppi_c\n",
      "atp_c + gly_c + pram_c <=> adp_c + gar_c + h_c + pi_c\n",
      "alaala_c + atp_c + uggmd_c --> adp_c + h_c + pi_c + uggmda_c\n",
      "2.0 atp_c + 2.0 gln__L_c + h2o_c + hgbyr_c --> 2.0 adp_c + 2.0 glu__L_c + h_c + hgbam_c + ppi_c\n",
      "atp_c + pi_c + pyr_c --> amp_c + h_c + pep_c + ppi_c\n",
      "atp_c + g1p_c + h_c --> adpglc_c + ppi_c\n",
      "atp_c + udp_c <=> adp_c + utp_c\n",
      "atp_c + cu2_e + h2o_c --> adp_c + cu2_c + h_c + pi_c\n",
      "2agpe180_c + atp_c + ocdca_c --> amp_c + pe180_c + ppi_c\n",
      "atp_c + dump_c <=> adp_c + dudp_c\n",
      "atp_c + gdp_c <=> adp_c + gtp_c\n",
      "asp__L_c + atp_c + citr__L_c --> amp_c + argsuc_c + h_c + ppi_c\n",
      "2agpe160_c + atp_c + hdca_c --> amp_c + pe160_c + ppi_c\n",
      "alaala_c + atp_c + ugmd_c --> adp_c + h_c + pi_c + ugmda_c\n",
      "atp_c + gln__L_c + h2o_c + utp_c --> adp_c + ctp_c + glu__L_c + 2.0 h_c + pi_c\n",
      "atp_c --> \n",
      "atp_c + dcmp_c <=> adp_c + dcdp_c\n",
      "atp_c + h2o_c + pi_e --> adp_c + h_c + 2.0 pi_c\n",
      "atp_c + glyb_e + h2o_c --> adp_c + glyb_c + h_c + pi_c\n",
      "atp_c + gal_c <=> adp_c + gal1p_c + h_c\n",
      "atp_c + h2o_c + rib__D_e --> adp_c + h_c + pi_c + rib__D_c\n",
      "atp_c + r5p_c <=> amp_c + h_c + prpp_c\n",
      "atp_c + glyc_c --> adp_c + glyc3p_c + h_c\n",
      "atp_c + h_c + pan4p_c --> dpcoa_c + ppi_c\n",
      "atp_c + h2o_c + tsul_e --> adp_c + h_c + pi_c + tsul_c\n",
      "adn_c + atp_c --> adp_c + amp_c + h_c\n",
      "ala__L_c + atp_c + ugmr_c --> adp_c + h_c + pi_c + ugma_c\n",
      "atp_c + coa_c + ppa_c --> amp_c + ppcoa_c + ppi_c\n",
      "atp_c + cys__L_c + glu__L_c --> adp_c + glucys_c + h_c + pi_c\n",
      "atp_c + glc__D_e + h2o_c --> adp_c + glc__D_c + h_c + pi_c\n",
      "atp_c + cmp_c <=> adp_c + cdp_c\n",
      "atp_c + nh4_c + utp_c --> adp_c + ctp_c + 2.0 h_c + pi_c\n",
      "atp_c + pnto__R_c --> 4ppan_c + adp_c + h_c\n",
      "atp_c + coa_c + prephth_c <=> amp_c + ppi_c + prephthcoa_c\n",
      "5oxpro_c + atp_c + 2.0 h2o_c <=> adp_c + glu__L_c + h_c + pi_c\n",
      "ac_c + atp_c + coa_c --> accoa_c + amp_c + ppi_c\n",
      "atp_c + gtp_c --> amp_c + gdptp_c + h_c\n",
      "atp_c + glu__D_c + ugma_c --> adp_c + h_c + pi_c + ugmag_c\n",
      "atp_c + duri_c --> adp_c + dump_c + h_c\n",
      "2.0 ala__D_c + atp_c <=> adp_c + alaala_c + h_c + pi_c\n",
      "atp_c + bhb_c + 2.0 lys__L_c + 2.0 nadp_c + 3.5 o2_c + occoa_c + salc_c + ser__L_c --> adp_c + cmcbtt_c + co2_c + coa_c + 5.0 h2o_c + 2.0 h_c + 2.0 nadph_c + pi_c\n",
      "atp_c + glu__L_c --> adp_c + glu5p_c\n",
      "atp_c + cit_e + h2o_c --> adp_c + cit_c + h_c + pi_c\n",
      "atp_c + coa_c + phdca_c <=> amp_c + phdcacoa_c + ppi_c\n",
      "atp_c + 9.0 coa_c + 8.0 fad_c + 8.0 h2o_c + 8.0 nad_c + ocdca_c --> 9.0 accoa_c + amp_c + 8.0 fadh2_c + 8.0 h_c + 8.0 nadh_c + ppi_c\n",
      "atp_c + 7.0 coa_c + 6.0 fad_c + 6.0 h2o_c + 6.0 nad_c + ttdca_c --> 7.0 accoa_c + amp_c + 6.0 fadh2_c + 6.0 h_c + 6.0 nadh_c + ppi_c\n",
      "atp_c + h2o_c + met__L_c --> amet_c + pi_c + ppi_c\n",
      "atp_c + dtmp_c <=> adp_c + dtdp_c\n",
      "asp__L_c + atp_c <=> 4pasp_c + adp_c\n",
      "atp_c + oaa_c <=> adp_c + co2_c + pep_c\n",
      "atp_c + for_c + thf_c <=> 10fthf_c + adp_c + pi_c\n",
      "4c2me_c + atp_c --> 2p4c2me_c + adp_c + h_c\n",
      "alaala_c + atp_c + uGgl_c --> adp_c + pi_c + uGgla_c\n",
      "atp_c + nh4_c + uaagmda_c --> adp_c + h_c + pi_c + uaagtmda_c\n",
      "atp_c + h2o_c + lcts_e --> adp_c + h_c + lcts_c + pi_c\n",
      "atp_c + coa_c + octa_c <=> amp_c + occoa_c + ppi_c\n",
      "atp_c + chol_e + h2o_c --> adp_c + chol_c + h_c + pi_c\n",
      "atp_c + rbl__L_c <=> adp_c + h_c + ru5p__L_c\n",
      "atp_c + coa_c + succ_c <=> adp_c + pi_c + succoa_c\n",
      "atp_c + crn_e + h2o_c --> adp_c + crn_c + h_c + pi_c\n",
      "4ppan_c + atp_c + cys__L_c --> 4ppcys_c + amp_c + h_c + ppi_c\n",
      "atp_c + gmp_c <=> adp_c + gdp_c\n",
      "alaala_c + atp_c + uAgl_c --> adp_c + pi_c + uAgla_c\n",
      "atp_c + cys__L_c + igam_c --> amp_c + cigam_c + 2.0 h_c + ppi_c\n",
      "atp_c + h2o_c + pro__L_e --> adp_c + h_c + pi_c + pro__L_c\n",
      "5fthf_c + atp_c --> adp_c + methf_c + pi_c\n",
      "arach_c + atp_c + coa_c <=> amp_c + arachcoa_c + ppi_c\n",
      "atp_c + nh4_c + uaaGgla_c --> adp_c + h_c + pi_c + uaaGgtla_c\n",
      "atp_c + 8.0 coa_c + 7.0 fad_c + 7.0 h2o_c + hdca_c + 7.0 nad_c --> 8.0 accoa_c + amp_c + 7.0 fadh2_c + 7.0 h_c + 7.0 nadh_c + ppi_c\n",
      "atp_c + coa_c + for_c <=> amp_c + forcoa_c + ppi_c\n",
      "atp_c + bhb_c + h_c + 2.0 lys__L_c + 2.0 o2_c + odecoa_c + salc_c + thr__L_c --> adp_c + co2_c + coa_c + 5.0 h2o_c + mcbts_c + pi_c\n",
      "atp_c + bhb_c + h_c + 2.0 lys__L_c + 2.0 o2_c + odecoa_c + salc_c + ser__L_c --> adp_c + co2_c + coa_c + 5.0 h2o_c + mcbtt_c + pi_c\n",
      "atp_c + hom__L_c --> adp_c + h_c + phom_c\n",
      "4ampm_c + atp_c --> 2mahmp_c + adp_c\n",
      "ala_B_c + atp_c + pant__R_c --> amp_c + h_c + pnto__R_c + ppi_c\n",
      "adp_c + h_c + pep_c --> atp_c + pyr_c\n",
      "atp_c + rbl__D_c <=> adp_c + h_c + ru5p__D_c\n",
      "26dap__M_c + atp_c + ugmag_c --> adp_c + h_c + pi_c + uggmd_c\n",
      "atp_c + coa_c + ocdcea_c <=> amp_c + odecoa_c + ppi_c\n",
      "atp_c + h2o_c + so4_e --> adp_c + h_c + pi_c + so4_c\n",
      "atp_c + glyc__R_c --> 3pg_c + adp_c + h_c\n",
      "air_c + atp_c + hco3_c --> 5caiz_c + adp_c + h_c + pi_c\n",
      "atp_c + nh4_c + uaaAgla_c --> adp_c + h_c + pi_c + uaaAgtla_c\n",
      "atp_c + h2o_c + k_e --> adp_c + h_c + k_c + pi_c\n",
      "asp__L_c + atp_c + gln__L_c + h2o_c --> amp_c + asn__L_c + glu__L_c + h_c + ppi_c\n",
      "atp_c + dpcoa_c --> adp_c + coa_c + h_c\n",
      "ala__L_c + atp_c + uamr_c --> adp_c + h_c + pi_c + uama_c\n",
      "2.0 atp_c + gln__L_c + h2o_c + hco3_c --> 2.0 adp_c + cbp_c + glu__L_c + 2.0 h_c + pi_c\n",
      "atp_c + hco3_c + ppcoa_c --> adp_c + h_c + mmcoa__S_c + pi_c\n",
      "0.001681 Ac1PIM1_c + 0.001488 Ac1PIM2_c + 0.001335 Ac1PIM3_c + 0.001211 Ac1PIM4_c + 0.001274 Ac2PIM2_c + 0.002076 PIM1_c + 0.00179 PIM2_c + 0.001573 PIM3_c + 0.001403 PIM4_c + 0.001266 PIM5_c + 0.001154 PIM6_c + 0.230181 acgam1p_c + 0.405957 ala__L_c + 0.139026 amp_c + 0.000731 arabinanagalfragund_c + 0.015676 arach_c + 0.120416 arg__L_c + 0.047699 asn__L_c + 0.120308 asp__L_c + 60.0 atp_c + 0.005859 clpn160190_c + 0.250951 cmp_c + 0.022 cys__L_c + 0.003492 damp_c + 0.006663 dcmp_c + 0.006659 dgmp_c + 0.003653 dtmp_c + 0.001498 fcmcbtt_c + 0.055474 gal_c + 0.163152 glc__D_c + 0.05812 gln__L_c + 0.090007 glu__L_c + 0.335808 gly_c + 0.025359 glyc_c + 0.243651 gmp_c + 60.0 h2o_c + 0.235152 hdca_c + 0.01094 hdcea_c + 0.058352 hexc_c + 0.040617 his__L_c + 0.087731 ile__L_c + 0.003338 kmycolate_c + 0.204706 leu__L_c + 0.03909 lys__L_c + 0.095065 man_c + 0.00784 mbhn_c + 0.001402 mcbts_c + 0.034889 met__L_c + 0.001184 mfrrppdima_c + 0.003291 mkmycolate_c + 0.003365 mmmycolate_c + 0.095802 mocdca_c + 0.011003 mycolate_c + 0.034837 ocdca_c + 0.009849 ocdcea_c + 0.006798 pa160190_c + 0.00724 pa160_c + 0.006407 pa190190_c + 0.001251 pat_c + 0.000273 pdima_c + 0.004061 pe160_c + 0.01885 peptido_TB1_c + 0.01885 peptido_TB2_c + 0.00613 pg160190_c + 0.006487 pg160_c + 0.00581 pg190_c + 0.006453 phdca_c + 0.048102 phe__L_c + 0.000263 ppdima_c + 0.138034 pro__L_c + 0.021723 rib__D_c + 0.143397 ser__L_c + 0.001137 sl1_c + 0.001176 tat_c + 0.135712 thr__L_c + 0.001106 tmha1_c + 0.0011 tmha2_c + 0.001104 tmha3_c + 0.001097 tmha4_c + 0.006491 tre6p_c + 0.00797 tre_c + 0.006474 tres_c + 0.020124 trp__L_c + 0.012193 ttdca_c + 0.031756 tyr__L_c + 0.001008 uaaAgla_c + 0.001008 uaaGgla_c + 0.000986 uaagmda_c + 0.002793 uamr_c + 0.000977 ugagmda_c + 0.131604 ump_c + 0.205827 val__L_c --> 60.0 adp_c + 60.0 h_c + 60.0 pi_c\n",
      "atp_c + 8.0 coa_c + 6.0 fad_c + 7.0 h2o_c + hdcea_c + 7.0 nad_c --> 8.0 accoa_c + amp_c + 6.0 fadh2_c + 7.0 h_c + 7.0 nadh_c + ppi_c\n",
      "atp_c + glucys_c + gly_c --> adp_c + gthrd_c + h_c + pi_c\n",
      "atp_c + coa_c + ocdca_c <=> amp_c + ppi_c + stcoa_c\n",
      "atp_c + skm_c --> adp_c + h_c + skm5p_c\n",
      "atp_c + glyc3p_e + h2o_c --> adp_c + glyc3p_c + h_c + pi_c\n",
      "atp_c + h2o_c + mg2_c + ppp9_c <=> adp_c + 3.0 h_c + mppp9_c + pi_c\n",
      "atp_c + h2o_c + tre_e --> adp_c + h_c + pi_c + tre_c\n",
      "aicar_c + atp_c + for_c <=> adp_c + fprica_c + pi_c\n",
      "atp_c + 9.0 coa_c + 7.0 fad_c + 8.0 h2o_c + 8.0 nad_c + ocdcea_c --> 9.0 accoa_c + amp_c + 7.0 fadh2_c + 8.0 h_c + 8.0 nadh_c + ppi_c\n",
      "atp_c + glu__L_c + nh4_c --> adp_c + gln__L_c + h_c + pi_c\n",
      "atp_c + glu__D_c + uama_c --> adp_c + h_c + pi_c + uamag_c\n"
     ]
    }
   ],
   "source": [
    "for rxn in INJ_MODEL.metabolites.get_by_id(\"atp_c\").reactions:\n",
    "    print(rxn.reaction)"
   ]
  },
  {
   "cell_type": "code",
   "execution_count": null,
   "metadata": {},
   "outputs": [],
   "source": [
    "for metab in INJ_MODEL.reactions.get_by_id(\"BIOMASS_Mtb_9_60atp\").metabolites:\n",
    "    print(metab.id, INJ_MODEL.reactions.get_by_id(\"BIOMASS_Mtb_9_60atp\").get_coefficient(metab))"
   ]
  },
  {
   "cell_type": "code",
   "execution_count": 10,
   "metadata": {},
   "outputs": [
    {
     "data": {
      "text/plain": [
       "{'EX_k_e': 1.0,\n",
       " 'EX_h_e': 1.0,\n",
       " 'EX_h2o_e': 1.0,\n",
       " 'EX_h2co3_e': 999999.0,\n",
       " 'EX_glyc_e': 1.0,\n",
       " 'EX_glu__L_e': 1.0,\n",
       " 'EX_glc__D_e': 1.0,\n",
       " 'EX_fe3_e': 1.0,\n",
       " 'EX_cu2_e': 1.0,\n",
       " 'EX_cl_e': 1.0,\n",
       " 'EX_cit_e': 1.0,\n",
       " 'EX_ca2_e': 1.0,\n",
       " 'EX_so4_e': 1.0,\n",
       " 'EX_pi_e': 1.0,\n",
       " 'EX_o2_e': 1.0,\n",
       " 'EX_nh4_e': 1.0,\n",
       " 'EX_na1_e': 1.0}"
      ]
     },
     "execution_count": 10,
     "metadata": {},
     "output_type": "execute_result"
    }
   ],
   "source": [
    "INJ_MODEL.medium"
   ]
  },
  {
   "cell_type": "code",
   "execution_count": null,
   "metadata": {},
   "outputs": [],
   "source": [
    "rxn_flux_samples_ARCH = flux_analysis.sample(COBRA_MODEL, 10000,method='achr', \n",
    "                                      thinning=100, processes=6, seed=None)"
   ]
  },
  {
   "cell_type": "markdown",
   "metadata": {},
   "source": [
    "Phase plane analysis of models"
   ]
  },
  {
   "cell_type": "code",
   "execution_count": 12,
   "metadata": {},
   "outputs": [],
   "source": [
    "from cobrascape.plotting import PhPP_plot\n",
    "from cobra.flux_analysis import production_envelope"
   ]
  },
  {
   "cell_type": "code",
   "execution_count": null,
   "metadata": {},
   "outputs": [],
   "source": [
    "obj_rxn_popfva = \"AFE_max\"\n",
    "obj_1, obj_2 = \"DCPT_max\", \"AFE_max\"\n",
    "DATA_DIR = \"cobra_model/\"\n",
    "MODEL_FILE = \"iNJ661.json\"#\"iEK1011_drugTesting_media.json\"\n",
    "INJ_MODEL = load_json_model(DATA_DIR+MODEL_FILE)\n",
    "num_points = 30\n",
    "obj_rxn = obj_rxn_popfva.strip(\"_max\").strip(\"_min\")\n",
    "flux_1, flux_2 = obj_1.strip(\"_max\").strip(\"_min\"), obj_2.strip(\"_max\").strip(\"_min\")\n",
    "obj_direct = obj_rxn_popfva.split(\"_\")[-1]+\"imum\" # \"maximum\"\n",
    "prod_env = production_envelope(INJ_MODEL, [flux_1, flux_2], objective=obj_rxn, \n",
    "                           points=num_points)\n",
    "\n",
    "f, ax_PhPP = PhPP_plot(flux_1,flux_2,prod_env.fillna(0),obj_direct=obj_direct,labelsizes=15,surf_trans=0.4)\n",
    "f"
   ]
  },
  {
   "cell_type": "markdown",
   "metadata": {},
   "source": [
    "# Sampling constraints statistics"
   ]
  },
  {
   "cell_type": "code",
   "execution_count": null,
   "metadata": {},
   "outputs": [],
   "source": [
    "import scipy\n",
    "import scipy.stats\n",
    "\n",
    "import matplotlib\n",
    "import matplotlib.pyplot as plt\n",
    "class Distribution(object):\n",
    "    \n",
    "    def __init__(self,dist_names_list = []):\n",
    "        self.dist_names = ['norm','lognorm','expon']\n",
    "        self.dist_results = []\n",
    "        self.params = {}\n",
    "        \n",
    "        self.DistributionName = \"\"\n",
    "        self.PValue = 0\n",
    "        self.Param = None\n",
    "        \n",
    "        self.isFitted = False\n",
    "        \n",
    "        \n",
    "    def Fit(self, y):\n",
    "        self.dist_results = []\n",
    "        self.params = {}\n",
    "        for dist_name in self.dist_names:\n",
    "            dist = getattr(scipy.stats, dist_name)\n",
    "            param = dist.fit(y)\n",
    "            \n",
    "            self.params[dist_name] = param\n",
    "            #Applying the Kolmogorov-Smirnov test\n",
    "            D, p = scipy.stats.kstest(y, dist_name, args=param);\n",
    "            self.dist_results.append((dist_name,p))\n",
    "\n",
    "        #select the best fitted distribution\n",
    "        sel_dist,p = (max(self.dist_results,key=lambda item:item[1]))\n",
    "        #store the name of the best fit and its p value\n",
    "        self.DistributionName = sel_dist\n",
    "        self.PValue = p\n",
    "        \n",
    "        self.isFitted = True\n",
    "        return self.DistributionName,self.PValue\n",
    "    \n",
    "    def Random(self, n = 1):\n",
    "        if self.isFitted:\n",
    "            dist_name = self.DistributionName\n",
    "            param = self.params[dist_name]\n",
    "            #initiate the scipy distribution\n",
    "            dist = getattr(scipy.stats, dist_name)\n",
    "            return dist.rvs(*param[:-2], loc=param[-2], scale=param[-1], size=n)\n",
    "        else:\n",
    "            raise ValueError('Must first run the Fit method.')\n",
    "            \n",
    "    def Plot(self,y):\n",
    "        x = self.Random(n=len(y))\n",
    "        plt.hist(x, alpha=0.5, label='Fitted')\n",
    "        plt.hist(y, alpha=0.5, label='Actual')\n",
    "        plt.legend(loc='upper right')"
   ]
  }
 ],
 "metadata": {
  "kernelspec": {
   "display_name": "Python 3",
   "language": "python",
   "name": "python3"
  },
  "language_info": {
   "codemirror_mode": {
    "name": "ipython",
    "version": 3
   },
   "file_extension": ".py",
   "mimetype": "text/x-python",
   "name": "python",
   "nbconvert_exporter": "python",
   "pygments_lexer": "ipython3",
   "version": "3.7.3"
  }
 },
 "nbformat": 4,
 "nbformat_minor": 2
}
