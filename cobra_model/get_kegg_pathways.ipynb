{
 "cells": [
  {
   "cell_type": "code",
   "execution_count": 8,
   "metadata": {},
   "outputs": [],
   "source": [
    "from Bio.KEGG import Enzyme\n",
    "from Bio.KEGG import REST\n",
    "import pandas as pd\n",
    "from cobrascape.ensemble import save_json_obj, load_json_obj"
   ]
  },
  {
   "cell_type": "code",
   "execution_count": 2,
   "metadata": {},
   "outputs": [],
   "source": [
    "save_file=False"
   ]
  },
  {
   "cell_type": "code",
   "execution_count": 3,
   "metadata": {},
   "outputs": [],
   "source": [
    "### Get all pathways and their names\n",
    "mtb_pathways_list = REST.kegg_list(\"pathway\", \"mtu\").read()\n",
    "mtb_pathways = []\n",
    "mtb_path_to_name = {}\n",
    "for line in mtb_pathways_list.rstrip().split(\"\\n\")[:]:\n",
    "    entry, description = line.split(\"\\t\")\n",
    "    mtb_pathways.append(entry)\n",
    "    mtb_path_to_name.update({entry: description.split(\" - Mycobacterium tuberculosis H37Rv\")[0]})"
   ]
  },
  {
   "cell_type": "code",
   "execution_count": 4,
   "metadata": {},
   "outputs": [],
   "source": [
    "### Get all pathways and their genes\n",
    "mtb_pathways_link = REST.kegg_link(\"mtu\", \"pathway\").read()\n",
    "kegg_path_to_genes = {}\n",
    "for line in mtb_pathways_link.rstrip().split(\"\\n\")[:]:\n",
    "    entry, description = line.split(\"\\t\")\n",
    "    path_name = mtb_path_to_name[entry]\n",
    "    if path_name not in kegg_path_to_genes.keys():\n",
    "        kegg_path_to_genes[path_name] = [description.split(\":\")[1]]\n",
    "    else:\n",
    "        kegg_path_to_genes[path_name].append(description.split(\":\")[1])\n",
    "    # print(line)"
   ]
  },
  {
   "cell_type": "code",
   "execution_count": 5,
   "metadata": {},
   "outputs": [],
   "source": [
    "if save_file==True:\n",
    "    save_json_obj(kegg_path_to_genes, \"cobra_model/kegg_path_to_genes.json\")"
   ]
  },
  {
   "cell_type": "code",
   "execution_count": null,
   "metadata": {},
   "outputs": [],
   "source": [
    "### Get all pathways and their genes\n",
    "mtb_genes_path_link = REST.kegg_link(\"pathway\", \"mtu\").read()\n",
    "kegg_gene_to_paths = {}\n",
    "for line in mtb_genes_path_link.rstrip().split(\"\\n\")[:]:\n",
    "    entry, description = line.split(\"\\t\")\n",
    "    gene_name = entry.split(\":\")[1]\n",
    "    path_name = mtb_path_to_name[description]\n",
    "    if gene_name not in kegg_gene_to_paths.keys():\n",
    "        kegg_gene_to_paths[gene_name] = [path_name]\n",
    "    else:\n",
    "        kegg_gene_to_paths[gene_name].append(path_name)\n",
    "    # print(line)"
   ]
  },
  {
   "cell_type": "code",
   "execution_count": 6,
   "metadata": {},
   "outputs": [],
   "source": [
    "if save_file==True:\n",
    "    save_json_obj(kegg_gene_to_paths, \"cobra_model/kegg_gene_to_paths.json\")"
   ]
  },
  {
   "cell_type": "markdown",
   "metadata": {},
   "source": [
    "Load and combine"
   ]
  },
  {
   "cell_type": "code",
   "execution_count": 38,
   "metadata": {},
   "outputs": [],
   "source": [
    "kegg_path_to_genes = load_json_obj(\"cobra_model/kegg_path_to_genes.json\")\n",
    "kegg_gene_to_paths = load_json_obj(\"cobra_model/kegg_gene_to_paths.json\")\n",
    "\n",
    "biocyc_pathways_df = pd.read_csv(\"cobra_model/TB_genes_2_pathways_biocyc.txt\", sep=\"\\t\")\n",
    "biocyc_pathways_df.set_index(\"Accession-1\",inplace=True)\n",
    "biocyc_pathways_df.index.name=None\n",
    "gene_to_pathways = {}\n",
    "for gene, gene_row in biocyc_pathways_df.iterrows():\n",
    "    if type(gene_row[\"Pathways of a reaction\"]) is not float:\n",
    "        superpathway_list = gene_row[\"Pathways of gene\"].split(\" // \")\n",
    "        superpathway_list = [x.strip('\"') for x in superpathway_list]\n",
    "        pathway_list = gene_row[\"Pathways of a reaction\"].split(\" // \")\n",
    "        pathway_list = [x.strip('\"') for x in pathway_list]\n",
    "        pathway_list.extend(superpathway_list)\n",
    "        if gene in kegg_gene_to_paths.keys():\n",
    "            pathway_list.extend(kegg_gene_to_paths[gene])\n",
    "            pathway_list = list(set(pathway_list))\n",
    "        gene_to_pathways.update({gene: pathway_list})\n",
    "    else:\n",
    "        pathway_list = []\n",
    "        if gene in kegg_gene_to_paths.keys():\n",
    "            pathway_list.extend(kegg_gene_to_paths[gene])\n",
    "            pathway_list = list(set(pathway_list))\n",
    "        gene_to_pathways.update({gene: pathway_list})\n",
    "        \n",
    "if save_file==True:\n",
    "    save_json_obj(gene_to_pathways, \"cobra_model/gene_to_pathways.json\")"
   ]
  },
  {
   "cell_type": "code",
   "execution_count": 39,
   "metadata": {},
   "outputs": [],
   "source": [
    "save_json_obj(gene_to_pathways, \"cobra_model/gene_to_pathways.json\")"
   ]
  },
  {
   "cell_type": "code",
   "execution_count": 40,
   "metadata": {},
   "outputs": [
    {
     "data": {
      "text/plain": [
       "['',\n",
       " 'Phenylalanine metabolism',\n",
       " 'Drug metabolism - other enzymes',\n",
       " 'Tryptophan metabolism',\n",
       " 'superoxide radicals degradation',\n",
       " 'Metabolic pathways',\n",
       " 'reactive oxygen species degradation',\n",
       " 'Biosynthesis of secondary metabolites',\n",
       " 'isoniazid activation']"
      ]
     },
     "execution_count": 40,
     "metadata": {},
     "output_type": "execute_result"
    }
   ],
   "source": [
    "gene_to_pathways[\"Rv1908c\"]"
   ]
  },
  {
   "cell_type": "code",
   "execution_count": 42,
   "metadata": {},
   "outputs": [],
   "source": [
    "# filter out the pathways that only have 1 gene\n",
    "pathway_to_genes = {}\n",
    "for gene, pathway_list in gene_to_pathways.items():\n",
    "    for pathway in pathway_list:\n",
    "        if pathway not in pathway_to_genes.keys():\n",
    "            pathway_to_genes[pathway] = []\n",
    "        else:\n",
    "            pathway_to_genes[pathway].append(gene)\n",
    "            \n",
    "drop_pathways = []\n",
    "for pathway, gene_list in pathway_to_genes.items():\n",
    "    if len(list(set(gene_list)))<2:\n",
    "        drop_pathways.append(pathway)\n",
    "        \n",
    "gene_to_pathways_filt = gene_to_pathways\n",
    "for gene, pathway_list in gene_to_pathways.items():\n",
    "    for pathway in pathway_list:\n",
    "        if pathway in drop_pathways:\n",
    "            gene_to_pathways_filt[gene].remove(pathway)"
   ]
  },
  {
   "cell_type": "code",
   "execution_count": 43,
   "metadata": {},
   "outputs": [],
   "source": [
    "if save_file==True:\n",
    "    save_json_obj(gene_to_pathways_filt, \"cobra_model/gene_to_pathways_filt.json\")"
   ]
  },
  {
   "cell_type": "code",
   "execution_count": 45,
   "metadata": {},
   "outputs": [
    {
     "data": {
      "text/plain": [
       "['',\n",
       " 'Phenylalanine metabolism',\n",
       " 'Drug metabolism - other enzymes',\n",
       " 'Tryptophan metabolism',\n",
       " 'superoxide radicals degradation',\n",
       " 'Metabolic pathways',\n",
       " 'reactive oxygen species degradation',\n",
       " 'Biosynthesis of secondary metabolites']"
      ]
     },
     "execution_count": 45,
     "metadata": {},
     "output_type": "execute_result"
    }
   ],
   "source": [
    "gene_to_pathways_filt[\"Rv1908c\"]"
   ]
  },
  {
   "cell_type": "code",
   "execution_count": null,
   "metadata": {},
   "outputs": [],
   "source": []
  },
  {
   "cell_type": "code",
   "execution_count": 23,
   "metadata": {},
   "outputs": [
    {
     "data": {
      "text/plain": [
       "['Rv1908c']"
      ]
     },
     "execution_count": 23,
     "metadata": {},
     "output_type": "execute_result"
    }
   ],
   "source": [
    "pathway_to_genes[\"isoniazid activation\"]"
   ]
  },
  {
   "cell_type": "code",
   "execution_count": 32,
   "metadata": {},
   "outputs": [
    {
     "data": {
      "text/plain": [
       "['Rv3846', 'Rv2633c', 'Rv2633c', 'Rv0432', 'Rv0432', 'Rv1908c', 'Rv1908c']"
      ]
     },
     "execution_count": 32,
     "metadata": {},
     "output_type": "execute_result"
    }
   ],
   "source": [
    "pathway_to_genes[\"superoxide radicals degradation\"]"
   ]
  },
  {
   "cell_type": "code",
   "execution_count": 31,
   "metadata": {},
   "outputs": [
    {
     "data": {
      "text/plain": [
       "70"
      ]
     },
     "execution_count": 31,
     "metadata": {},
     "output_type": "execute_result"
    }
   ],
   "source": [
    "len(drop_pathways)"
   ]
  },
  {
   "cell_type": "code",
   "execution_count": 16,
   "metadata": {},
   "outputs": [
    {
     "ename": "NameError",
     "evalue": "name 'pathway' is not defined",
     "output_type": "error",
     "traceback": [
      "\u001b[0;31m---------------------------------------------------------------------------\u001b[0m",
      "\u001b[0;31mNameError\u001b[0m                                 Traceback (most recent call last)",
      "\u001b[0;32m<ipython-input-16-1204d14279b6>\u001b[0m in \u001b[0;36m<module>\u001b[0;34m\u001b[0m\n\u001b[0;32m----> 1\u001b[0;31m \u001b[0mpathway_list\u001b[0m\u001b[0;34m.\u001b[0m\u001b[0mcount\u001b[0m\u001b[0;34m(\u001b[0m\u001b[0mpathway\u001b[0m\u001b[0;34m)\u001b[0m\u001b[0;34m\u001b[0m\u001b[0;34m\u001b[0m\u001b[0m\n\u001b[0m",
      "\u001b[0;31mNameError\u001b[0m: name 'pathway' is not defined"
     ]
    }
   ],
   "source": [
    "pathway_list.count(pathway)"
   ]
  },
  {
   "cell_type": "code",
   "execution_count": null,
   "metadata": {},
   "outputs": [],
   "source": []
  }
 ],
 "metadata": {
  "kernelspec": {
   "display_name": "Python 3",
   "language": "python",
   "name": "python3"
  },
  "language_info": {
   "codemirror_mode": {
    "name": "ipython",
    "version": 3
   },
   "file_extension": ".py",
   "mimetype": "text/x-python",
   "name": "python",
   "nbconvert_exporter": "python",
   "pygments_lexer": "ipython3",
   "version": "3.7.3"
  }
 },
 "nbformat": 4,
 "nbformat_minor": 2
}
